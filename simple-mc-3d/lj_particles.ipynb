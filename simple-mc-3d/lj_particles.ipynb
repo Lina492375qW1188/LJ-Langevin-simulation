{
 "cells": [
  {
   "cell_type": "code",
   "execution_count": 1,
   "id": "6a16cdbe-223f-41a4-a89a-3f3c1bd3e1c6",
   "metadata": {},
   "outputs": [],
   "source": [
    "import time\n",
    "import itertools\n",
    "import numpy as np\n",
    "# from scipy.spatial import cKDTree\n",
    "import matplotlib.pyplot as plt\n",
    "\n",
    "from swim import LJ, simple_md3d\n",
    "\n",
    "import gsd.hoomd"
   ]
  },
  {
   "cell_type": "code",
   "execution_count": 2,
   "id": "325b3e7b-b07a-45b9-8194-944dff0a0607",
   "metadata": {},
   "outputs": [],
   "source": [
    "m = 4\n",
    "spacing = 3.5\n",
    "L = m * spacing\n",
    "x_ref = np.linspace(-L/2, L/2, m, endpoint=False) + spacing/2\n",
    "position = np.array(list(itertools.product(x_ref, repeat=3)))\n",
    "\n",
    "num_particles = 64\n",
    "init_x3d = position[:num_particles]\n",
    "box=[L, L, L]"
   ]
  },
  {
   "cell_type": "code",
   "execution_count": 3,
   "id": "54f3aac9-5911-45c0-ab89-2afae8737a9f",
   "metadata": {},
   "outputs": [],
   "source": [
    "lj = LJ()\n",
    "lj.param = {'epsilon':2.0,\n",
    "            'sigma':1.0, \n",
    "            'r_cut': 3.0}"
   ]
  },
  {
   "cell_type": "code",
   "execution_count": 4,
   "id": "d72b6c4a-b226-4d6c-89c6-36ef02cc1ea9",
   "metadata": {},
   "outputs": [],
   "source": [
    "md = simple_md3d(seed=2392)\n",
    "md.set_param(dt=0.01,\n",
    "             kT=1.0, \n",
    "             damping=10.)\n",
    "md.set_init_config(init_x3d=init_x3d,\n",
    "                   init_v3d=None,\n",
    "                   num_particles=num_particles,\n",
    "                   box=box)\n",
    "md.pe = lj"
   ]
  },
  {
   "cell_type": "code",
   "execution_count": 5,
   "id": "7b1d31a4-7f07-42fd-b1a1-3321f7b5a417",
   "metadata": {},
   "outputs": [],
   "source": [
    "def generate_move(d, nsteps):\n",
    "    \"\"\"random move within a sphere with radius d.\"\"\"\n",
    "    size=(int(nsteps),num_particles,1)\n",
    "    theta = _rng.uniform(0, 2*np.pi, size=size)\n",
    "    phi = _rng.uniform(0, np.pi, size=size)\n",
    "    r = d * np.cbrt(_rng.uniform(0, 1, size=size))\n",
    "    \n",
    "    x = r*np.sin(phi)*np.cos(theta)\n",
    "    y = r*np.sin(phi)*np.sin(theta)\n",
    "    z = r*np.cos(phi)\n",
    "    move = np.dstack((x, y, z))\n",
    "    \n",
    "    return move"
   ]
  },
  {
   "cell_type": "code",
   "execution_count": 6,
   "id": "caeb420b-102d-4507-a2a3-ff6634449c03",
   "metadata": {},
   "outputs": [],
   "source": [
    "def create_snapshot(i, x):\n",
    "    global num_particles, traj, box\n",
    "\n",
    "    N_particles = num_particles\n",
    "    \n",
    "    snapshot = gsd.hoomd.Frame()\n",
    "    snapshot.particles.types = ['A']\n",
    "    snapshot.particles.N = N_particles\n",
    "    snapshot.particles.typeid = [0] * N_particles\n",
    "    snapshot.particles.position = x\n",
    "    \n",
    "    d = 1.0\n",
    "    snapshot.particles.diameter = [d] * N_particles\n",
    "    snapshot.configuration.box = [box[0], box[1], box[2], 0, 0, 0]\n",
    "    snapshot.configuration.step = i\n",
    "    \n",
    "    return snapshot\n",
    "\n",
    "f = gsd.hoomd.open(name='./mc3d_traj.gsd', mode='w')"
   ]
  },
  {
   "cell_type": "code",
   "execution_count": 7,
   "id": "589548fc-6731-41ba-99d0-c5c78324873c",
   "metadata": {},
   "outputs": [
    {
     "name": "stdout",
     "output_type": "stream",
     "text": [
      "12.655107736587524 s\n"
     ]
    }
   ],
   "source": [
    "start = time.time()\n",
    "\n",
    "traj = [[0, init_x3d]]\n",
    "\n",
    "counter = [0, 0]\n",
    "_rng = np.random.default_rng(123)\n",
    "\n",
    "nsteps=1e5\n",
    "dump_stride = 1000\n",
    "# uniform\n",
    "rand_number = _rng.uniform(size=int(nsteps))\n",
    "# 3-dim random move\n",
    "move = generate_move(0.05, nsteps)\n",
    "\n",
    "for i in range(int(nsteps)):\n",
    "    \n",
    "    # current\n",
    "    _, current_x = traj[-1]\n",
    "    nlist = md.nlist_search(current_x, rcut=lj.param['r_cut'], full=False)\n",
    "    current_U = md.compute_pe(current_x, nlist)\n",
    "\n",
    "    # try a move\n",
    "    trial_x = current_x + move[i]\n",
    "\n",
    "    # trial\n",
    "    trial_x = md.pbc(trial_x, box)\n",
    "    nlist = md.nlist_search(trial_x, rcut=lj.param['r_cut'], full=False)\n",
    "    trial_U = md.compute_pe(trial_x, nlist)\n",
    "\n",
    "    # Metropolis check\n",
    "    dU = trial_U - current_U\n",
    "    prob = np.exp(-dU) # kT=1\n",
    "    if rand_number[i] < prob:\n",
    "        # move was accepted\n",
    "        counter[0] += 1\n",
    "        inst_x = trial_x\n",
    "    else:\n",
    "        # move was rejected\n",
    "        counter[1] += 1\n",
    "        inst_x = current_x\n",
    "    \n",
    "    traj.append([i, inst_x])\n",
    "    if i%dump_stride==0:\n",
    "        snapshot = create_snapshot(i, inst_x)\n",
    "        f.append(snapshot)\n",
    "        f.flush()\n",
    "\n",
    "print(time.time()-start, 's')"
   ]
  },
  {
   "cell_type": "code",
   "execution_count": 8,
   "id": "0fec82f3-024d-4a9e-bd5d-949fa2aeb4e2",
   "metadata": {},
   "outputs": [
    {
     "data": {
      "text/plain": [
       "[33681, 66319]"
      ]
     },
     "execution_count": 8,
     "metadata": {},
     "output_type": "execute_result"
    }
   ],
   "source": [
    "counter"
   ]
  },
  {
   "cell_type": "code",
   "execution_count": 9,
   "id": "a2dbcff7-a4d4-4d27-a29f-04b8d597d476",
   "metadata": {},
   "outputs": [
    {
     "data": {
      "text/plain": [
       "0.33681"
      ]
     },
     "execution_count": 9,
     "metadata": {},
     "output_type": "execute_result"
    }
   ],
   "source": [
    "counter[0]/np.sum(counter)"
   ]
  },
  {
   "cell_type": "code",
   "execution_count": 10,
   "id": "966816fb-df1a-4c9d-a81a-ddbd51981a79",
   "metadata": {},
   "outputs": [],
   "source": [
    "import freud\n",
    "\n",
    "def compute_int_num_liq(snapshot):\n",
    "    \"\"\"\n",
    "    Contiuous number of liquids\n",
    "    \"\"\"\n",
    "    r_cut = 2.0\n",
    "    box = snapshot.configuration.box\n",
    "    points = snapshot.particles.position\n",
    "\n",
    "    system = freud.AABBQuery(box, points)\n",
    "    args = {\"num_neighbors\": 20, \"exclude_ii\": True}\n",
    "    nlist = system.query(points, args).toNeighborList()\n",
    "    d = nlist.distances.reshape(20,-1)\n",
    "    coord_n = np.sum(1*(d<r_cut), axis=0)\n",
    "    num_liq = np.sum(1*(coord_n>5))\n",
    "\n",
    "    return num_liq"
   ]
  },
  {
   "cell_type": "code",
   "execution_count": 11,
   "id": "8e6b41aa-d39c-4d2f-a728-e7effab92783",
   "metadata": {},
   "outputs": [],
   "source": [
    "f = gsd.hoomd.open('./mc3d_traj.gsd', 'r')"
   ]
  },
  {
   "cell_type": "code",
   "execution_count": 12,
   "id": "c40fe730-78e3-47c8-ad17-13d868ca8d78",
   "metadata": {},
   "outputs": [],
   "source": [
    "n_arr = []\n",
    "for frame in f:\n",
    "    n = compute_int_num_liq(frame)\n",
    "    n_arr.append(n)"
   ]
  },
  {
   "cell_type": "code",
   "execution_count": 13,
   "id": "14f6c2cd-ca33-4ee7-8312-e8f045b799a6",
   "metadata": {},
   "outputs": [
    {
     "data": {
      "text/plain": [
       "[<matplotlib.lines.Line2D at 0x13ebe77d0>]"
      ]
     },
     "execution_count": 13,
     "metadata": {},
     "output_type": "execute_result"
    },
    {
     "data": {
      "image/png": "[encoded data removed]",
      "text/plain": [
       "<Figure size 640x480 with 1 Axes>"
      ]
     },
     "metadata": {},
     "output_type": "display_data"
    }
   ],
   "source": [
    "plt.plot(n_arr)"
   ]
  }
 ],
 "metadata": {
  "kernelspec": {
   "display_name": "Python 3 (ipykernel)",
   "language": "python",
   "name": "python3"
  },
  "language_info": {
   "codemirror_mode": {
    "name": "ipython",
    "version": 3
   },
   "file_extension": ".py",
   "mimetype": "text/x-python",
   "name": "python",
   "nbconvert_exporter": "python",
   "pygments_lexer": "ipython3",
   "version": "3.11.6"
  }
 },
 "nbformat": 4,
 "nbformat_minor": 5
}

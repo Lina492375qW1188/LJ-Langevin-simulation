{
 "cells": [
  {
   "cell_type": "code",
   "execution_count": 1,
   "id": "3b9145c4-1789-4dc8-9298-74efabb5b8cf",
   "metadata": {
    "tags": []
   },
   "outputs": [],
   "source": [
    "import time\n",
    "import itertools\n",
    "import numpy as np\n",
    "import matplotlib.pyplot as plt\n",
    "\n",
    "from swim import LJ, simple_md3d"
   ]
  },
  {
   "cell_type": "markdown",
   "id": "0aa7c6e5-1637-4f0b-91cd-07f1a5b182b1",
   "metadata": {},
   "source": [
    "#### Initialize system"
   ]
  },
  {
   "cell_type": "code",
   "execution_count": 2,
   "id": "04ad9fea-fbad-43d8-8afc-734d3db654e3",
   "metadata": {
    "tags": []
   },
   "outputs": [],
   "source": [
    "m = 3\n",
    "spacing = 3.\n",
    "L = m * spacing\n",
    "x_ref = np.linspace(-L/2, L/2, m, endpoint=False) + spacing/2\n",
    "position = np.array(list(itertools.product(x_ref, repeat=3)))\n",
    "\n",
    "num_particles = 24\n",
    "init_x3d = position[:num_particles]\n",
    "init_v3d = np.random.rand(num_particles,3)[:num_particles]\n",
    "\n",
    "kT = 1.0"
   ]
  },
  {
   "cell_type": "markdown",
   "id": "b79209a8-5423-42c9-a93e-4a8fbbd4494a",
   "metadata": {},
   "source": [
    "#### Set up Lennard-Jones potential"
   ]
  },
  {
   "cell_type": "code",
   "execution_count": 3,
   "id": "88e6b63c-7112-4080-a6d3-21df01187743",
   "metadata": {},
   "outputs": [],
   "source": [
    "lj = LJ()\n",
    "lj.param = {'epsilon':1.3, \n",
    "            'sigma':1.2, \n",
    "            'r_cut': 6*1.2}"
   ]
  },
  {
   "cell_type": "markdown",
   "id": "3990d16c-56a1-4655-a6a0-8eba5987cbb8",
   "metadata": {
    "tags": []
   },
   "source": [
    "#### Run MD"
   ]
  },
  {
   "cell_type": "code",
   "execution_count": 4,
   "id": "f947b866-1fa7-4fe7-86b4-1785b4c0590a",
   "metadata": {
    "tags": []
   },
   "outputs": [
    {
     "name": "stdout",
     "output_type": "stream",
     "text": [
      "32.09401869773865 s\n"
     ]
    }
   ],
   "source": [
    "start = time.time()\n",
    "\n",
    "md = simple_md3d(seed=45932)\n",
    "md.set_param(dt=0.01,\n",
    "             kT=kT, \n",
    "             damping=10.)\n",
    "md.set_init_config(init_x3d=init_x3d,\n",
    "                   init_v3d=init_v3d,\n",
    "                   num_particles=num_particles,\n",
    "                   box=[L, L+2, L])\n",
    "\n",
    "# initialize velocity with kT\n",
    "md.init_v3d = md.v_rescale(init_v3d, kT)\n",
    "\n",
    "md.pe = lj\n",
    "md.run(int(3e3))\n",
    "\n",
    "print(time.time() - start, 's')"
   ]
  },
  {
   "cell_type": "markdown",
   "id": "e6502077-ed68-412f-949a-1b39f125ff8f",
   "metadata": {},
   "source": [
    "#### Use gsd to store trajectory. The gsd file can be visualized using Ovito."
   ]
  },
  {
   "cell_type": "code",
   "execution_count": 5,
   "id": "881a1002-9179-469a-bebb-2e1b4af499bb",
   "metadata": {
    "tags": []
   },
   "outputs": [],
   "source": [
    "import gsd.hoomd\n",
    "\n",
    "def create_snapshot(timestep):\n",
    "    \n",
    "    d = 1.0\n",
    "    N_particles = md.num_particles\n",
    "    position = md.traj[timestep][1]\n",
    "    \n",
    "    snapshot = gsd.hoomd.Snapshot()\n",
    "    \n",
    "    snapshot.particles.types = ['A']\n",
    "    snapshot.particles.N = N_particles\n",
    "    snapshot.particles.typeid = [0] * N_particles\n",
    "    \n",
    "    snapshot.particles.position = position\n",
    "    snapshot.particles.diameter = [d] * N_particles\n",
    "\n",
    "    snapshot.configuration.box = [md.box[0], md.box[1], md.box[2], 0, 0, 0]\n",
    "    snapshot.configuration.step = md.traj[timestep][0]\n",
    "    \n",
    "    return snapshot\n",
    "\n",
    "f = gsd.hoomd.open(name='./md3d_traj.gsd', mode='wb+')\n",
    "\n",
    "for i in range(len(md.traj)):\n",
    "    snapshot = create_snapshot(i)\n",
    "    f.append(snapshot)"
   ]
  },
  {
   "cell_type": "markdown",
   "id": "a92dacee-55ae-447e-9158-cee6f95274b8",
   "metadata": {},
   "source": [
    "#### Take a look at the trajectory of kinetic and potential energy"
   ]
  },
  {
   "cell_type": "code",
   "execution_count": 6,
   "id": "653ec1b5-4f6c-4273-b73e-d56b1ef0aa42",
   "metadata": {
    "tags": []
   },
   "outputs": [
    {
     "data": {
      "text/plain": [
       "[<matplotlib.lines.Line2D at 0x11a190040>]"
      ]
     },
     "execution_count": 6,
     "metadata": {},
     "output_type": "execute_result"
    },
    {
     "data": {
      "image/png": "[encoded data removed]",
      "text/plain": [
       "<Figure size 640x480 with 1 Axes>"
      ]
     },
     "metadata": {},
     "output_type": "display_data"
    }
   ],
   "source": [
    "traj_ke = []\n",
    "for i in range(len(md.traj)):\n",
    "    ke = 0.5 * np.sum(md.traj[i][2]**2)\n",
    "    traj_ke.append( ke )\n",
    "\n",
    "plt.plot(traj_ke)\n",
    "plt.plot(md.traj_pe)"
   ]
  }
 ],
 "metadata": {
  "kernelspec": {
   "display_name": "Python 3 (ipykernel)",
   "language": "python",
   "name": "python3"
  },
  "language_info": {
   "codemirror_mode": {
    "name": "ipython",
    "version": 3
   },
   "file_extension": ".py",
   "mimetype": "text/x-python",
   "name": "python",
   "nbconvert_exporter": "python",
   "pygments_lexer": "ipython3",
   "version": "3.9.16"
  }
 },
 "nbformat": 4,
 "nbformat_minor": 5
}

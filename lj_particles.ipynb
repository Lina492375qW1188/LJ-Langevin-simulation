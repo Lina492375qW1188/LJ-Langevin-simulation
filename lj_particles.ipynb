{
 "cells": [
  {
   "cell_type": "code",
   "execution_count": 1,
   "id": "3b9145c4-1789-4dc8-9298-74efabb5b8cf",
   "metadata": {
    "tags": []
   },
   "outputs": [],
   "source": [
    "import time\n",
    "import itertools\n",
    "import numpy as np\n",
    "import matplotlib.pyplot as plt\n",
    "\n",
    "from swim import LJ, simple_md3d"
   ]
  },
  {
   "cell_type": "markdown",
   "id": "0aa7c6e5-1637-4f0b-91cd-07f1a5b182b1",
   "metadata": {},
   "source": [
    "#### Initialize system"
   ]
  },
  {
   "cell_type": "code",
   "execution_count": 2,
   "id": "04ad9fea-fbad-43d8-8afc-734d3db654e3",
   "metadata": {
    "tags": []
   },
   "outputs": [],
   "source": [
    "m = 3\n",
    "spacing = 3.\n",
    "L = m * spacing\n",
    "x_ref = np.linspace(-L/2, L/2, m, endpoint=False) + spacing/2\n",
    "position = np.array(list(itertools.product(x_ref, repeat=3)))\n",
    "\n",
    "num_particles = 24\n",
    "init_x3d = position[:num_particles]\n",
    "init_v3d = np.random.rand(num_particles,3)[:num_particles]\n",
    "\n",
    "kT = 1.0"
   ]
  },
  {
   "cell_type": "markdown",
   "id": "b79209a8-5423-42c9-a93e-4a8fbbd4494a",
   "metadata": {},
   "source": [
    "#### Set up Lennard-Jones potential"
   ]
  },
  {
   "cell_type": "code",
   "execution_count": 3,
   "id": "88e6b63c-7112-4080-a6d3-21df01187743",
   "metadata": {},
   "outputs": [],
   "source": [
    "lj = LJ()\n",
    "lj.param = {'epsilon':1.3, \n",
    "            'sigma':1.2, \n",
    "            'r_cut': 6*1.2}"
   ]
  },
  {
   "cell_type": "markdown",
   "id": "3990d16c-56a1-4655-a6a0-8eba5987cbb8",
   "metadata": {
    "tags": []
   },
   "source": [
    "#### Run MD"
   ]
  },
  {
   "cell_type": "code",
   "execution_count": 4,
   "id": "f947b866-1fa7-4fe7-86b4-1785b4c0590a",
   "metadata": {
    "tags": []
   },
   "outputs": [
    {
     "name": "stdout",
     "output_type": "stream",
     "text": [
      "43.24033188819885 s\n"
     ]
    }
   ],
   "source": [
    "start = time.time()\n",
    "\n",
    "md = simple_md3d(seed=45932)\n",
    "md.set_param(dt=0.01,\n",
    "             kT=kT, \n",
    "             damping=10.)\n",
    "md.set_init_config(init_x3d=init_x3d,\n",
    "                   init_v3d=init_v3d,\n",
    "                   num_particles=num_particles,\n",
    "                   box=[L, L+2, L])\n",
    "\n",
    "# initialize velocity with kT\n",
    "md.init_v3d = md.v_rescale(init_v3d, kT)\n",
    "\n",
    "md.pe = lj\n",
    "md.run(int(3e3))\n",
    "\n",
    "print(time.time() - start, 's')"
   ]
  },
  {
   "cell_type": "markdown",
   "id": "e6502077-ed68-412f-949a-1b39f125ff8f",
   "metadata": {},
   "source": [
    "#### Use gsd to store trajectory. The gsd file can be visualized using Ovito."
   ]
  },
  {
   "cell_type": "code",
   "execution_count": 5,
   "id": "881a1002-9179-469a-bebb-2e1b4af499bb",
   "metadata": {
    "tags": []
   },
   "outputs": [
    {
     "ename": "ValueError",
     "evalue": "Invalid mode: wb+",
     "output_type": "error",
     "traceback": [
      "\u001b[0;31m---------------------------------------------------------------------------\u001b[0m",
      "\u001b[0;31mValueError\u001b[0m                                Traceback (most recent call last)",
      "Cell \u001b[0;32mIn[5], line 23\u001b[0m\n\u001b[1;32m     19\u001b[0m     snapshot\u001b[38;5;241m.\u001b[39mconfiguration\u001b[38;5;241m.\u001b[39mstep \u001b[38;5;241m=\u001b[39m md\u001b[38;5;241m.\u001b[39mtraj[timestep][\u001b[38;5;241m0\u001b[39m]\n\u001b[1;32m     21\u001b[0m     \u001b[38;5;28;01mreturn\u001b[39;00m snapshot\n\u001b[0;32m---> 23\u001b[0m f \u001b[38;5;241m=\u001b[39m \u001b[43mgsd\u001b[49m\u001b[38;5;241;43m.\u001b[39;49m\u001b[43mhoomd\u001b[49m\u001b[38;5;241;43m.\u001b[39;49m\u001b[43mopen\u001b[49m\u001b[43m(\u001b[49m\u001b[43mname\u001b[49m\u001b[38;5;241;43m=\u001b[39;49m\u001b[38;5;124;43m'\u001b[39;49m\u001b[38;5;124;43m./md3d_traj.gsd\u001b[39;49m\u001b[38;5;124;43m'\u001b[39;49m\u001b[43m,\u001b[49m\u001b[43m \u001b[49m\u001b[43mmode\u001b[49m\u001b[38;5;241;43m=\u001b[39;49m\u001b[38;5;124;43m'\u001b[39;49m\u001b[38;5;124;43mwb+\u001b[39;49m\u001b[38;5;124;43m'\u001b[39;49m\u001b[43m)\u001b[49m\n\u001b[1;32m     25\u001b[0m \u001b[38;5;28;01mfor\u001b[39;00m i \u001b[38;5;129;01min\u001b[39;00m \u001b[38;5;28mrange\u001b[39m(\u001b[38;5;28mlen\u001b[39m(md\u001b[38;5;241m.\u001b[39mtraj)):\n\u001b[1;32m     26\u001b[0m     snapshot \u001b[38;5;241m=\u001b[39m create_snapshot(i)\n",
      "File \u001b[0;32m~/opt/miniconda3/envs/alchemy/lib/python3.11/site-packages/gsd/hoomd.py:1086\u001b[0m, in \u001b[0;36mopen\u001b[0;34m(name, mode)\u001b[0m\n\u001b[1;32m   1083\u001b[0m \u001b[38;5;28;01mif\u001b[39;00m gsd \u001b[38;5;129;01mis\u001b[39;00m \u001b[38;5;28;01mNone\u001b[39;00m:\n\u001b[1;32m   1084\u001b[0m     \u001b[38;5;28;01mraise\u001b[39;00m \u001b[38;5;167;01mRuntimeError\u001b[39;00m(\u001b[38;5;124m\"\u001b[39m\u001b[38;5;124mgsd module is not available\u001b[39m\u001b[38;5;124m\"\u001b[39m)\n\u001b[0;32m-> 1086\u001b[0m gsdfileobj \u001b[38;5;241m=\u001b[39m \u001b[43mfl\u001b[49m\u001b[38;5;241;43m.\u001b[39;49m\u001b[43mopen\u001b[49m\u001b[43m(\u001b[49m\u001b[43mname\u001b[49m\u001b[38;5;241;43m=\u001b[39;49m\u001b[38;5;28;43mstr\u001b[39;49m\u001b[43m(\u001b[49m\u001b[43mname\u001b[49m\u001b[43m)\u001b[49m\u001b[43m,\u001b[49m\n\u001b[1;32m   1087\u001b[0m \u001b[43m                     \u001b[49m\u001b[43mmode\u001b[49m\u001b[38;5;241;43m=\u001b[39;49m\u001b[43mmode\u001b[49m\u001b[43m,\u001b[49m\n\u001b[1;32m   1088\u001b[0m \u001b[43m                     \u001b[49m\u001b[43mapplication\u001b[49m\u001b[38;5;241;43m=\u001b[39;49m\u001b[38;5;124;43m'\u001b[39;49m\u001b[38;5;124;43mgsd.hoomd \u001b[39;49m\u001b[38;5;124;43m'\u001b[39;49m\u001b[43m \u001b[49m\u001b[38;5;241;43m+\u001b[39;49m\u001b[43m \u001b[49m\u001b[43mgsd\u001b[49m\u001b[38;5;241;43m.\u001b[39;49m\u001b[43mversion\u001b[49m\u001b[38;5;241;43m.\u001b[39;49m\u001b[43mversion\u001b[49m\u001b[43m,\u001b[49m\n\u001b[1;32m   1089\u001b[0m \u001b[43m                     \u001b[49m\u001b[43mschema\u001b[49m\u001b[38;5;241;43m=\u001b[39;49m\u001b[38;5;124;43m'\u001b[39;49m\u001b[38;5;124;43mhoomd\u001b[39;49m\u001b[38;5;124;43m'\u001b[39;49m\u001b[43m,\u001b[49m\n\u001b[1;32m   1090\u001b[0m \u001b[43m                     \u001b[49m\u001b[43mschema_version\u001b[49m\u001b[38;5;241;43m=\u001b[39;49m\u001b[43m[\u001b[49m\u001b[38;5;241;43m1\u001b[39;49m\u001b[43m,\u001b[49m\u001b[43m \u001b[49m\u001b[38;5;241;43m4\u001b[39;49m\u001b[43m]\u001b[49m\u001b[43m)\u001b[49m\n\u001b[1;32m   1092\u001b[0m \u001b[38;5;28;01mreturn\u001b[39;00m HOOMDTrajectory(gsdfileobj)\n",
      "File \u001b[0;32m~/opt/miniconda3/envs/alchemy/lib/python3.11/site-packages/gsd/fl.pyx:226\u001b[0m, in \u001b[0;36mgsd.fl.open\u001b[0;34m()\u001b[0m\n",
      "File \u001b[0;32m~/opt/miniconda3/envs/alchemy/lib/python3.11/site-packages/gsd/fl.pyx:314\u001b[0m, in \u001b[0;36mgsd.fl.GSDFile.__init__\u001b[0;34m()\u001b[0m\n",
      "\u001b[0;31mValueError\u001b[0m: Invalid mode: wb+"
     ]
    }
   ],
   "source": [
    "import gsd.hoomd\n",
    "\n",
    "def create_snapshot(timestep):\n",
    "    \n",
    "    d = 1.0\n",
    "    N_particles = md.num_particles\n",
    "    position = md.traj[timestep][1]\n",
    "    \n",
    "    snapshot = gsd.hoomd.Snapshot()\n",
    "    \n",
    "    snapshot.particles.types = ['A']\n",
    "    snapshot.particles.N = N_particles\n",
    "    snapshot.particles.typeid = [0] * N_particles\n",
    "    \n",
    "    snapshot.particles.position = position\n",
    "    snapshot.particles.diameter = [d] * N_particles\n",
    "\n",
    "    snapshot.configuration.box = [md.box[0], md.box[1], md.box[2], 0, 0, 0]\n",
    "    snapshot.configuration.step = md.traj[timestep][0]\n",
    "    \n",
    "    return snapshot\n",
    "\n",
    "f = gsd.hoomd.open(name='./md3d_traj.gsd', mode='wb+')\n",
    "\n",
    "for i in range(len(md.traj)):\n",
    "    snapshot = create_snapshot(i)\n",
    "    f.append(snapshot)"
   ]
  },
  {
   "cell_type": "markdown",
   "id": "a92dacee-55ae-447e-9158-cee6f95274b8",
   "metadata": {},
   "source": [
    "#### Take a look at the trajectory of kinetic and potential energy"
   ]
  },
  {
   "cell_type": "code",
   "execution_count": null,
   "id": "653ec1b5-4f6c-4273-b73e-d56b1ef0aa42",
   "metadata": {
    "tags": []
   },
   "outputs": [],
   "source": [
    "traj_ke = []\n",
    "for i in range(len(md.traj)):\n",
    "    ke = 0.5 * np.sum(md.traj[i][2]**2)\n",
    "    traj_ke.append( ke )\n",
    "\n",
    "plt.plot(traj_ke)\n",
    "plt.plot(md.traj_pe)"
   ]
  }
 ],
 "metadata": {
  "kernelspec": {
   "display_name": "Python 3 (ipykernel)",
   "language": "python",
   "name": "python3"
  },
  "language_info": {
   "codemirror_mode": {
    "name": "ipython",
    "version": 3
   },
   "file_extension": ".py",
   "mimetype": "text/x-python",
   "name": "python",
   "nbconvert_exporter": "python",
   "pygments_lexer": "ipython3",
   "version": "3.11.6"
  }
 },
 "nbformat": 4,
 "nbformat_minor": 5
}
